{
 "cells": [
  {
   "cell_type": "markdown",
   "id": "79663659",
   "metadata": {},
   "source": [
    "## Checking duplicates emails\n",
    "  "
   ]
  },
  {
   "cell_type": "code",
   "execution_count": 31,
   "id": "77fb61e2",
   "metadata": {},
   "outputs": [],
   "source": [
    "import pandas as pd\n",
    "data = [[1, 'a@b.com'], [2, 'c@d.com'], [3, 'a@b.com']]\n",
    "person = pd.DataFrame(data, columns=['id', 'email']).astype({'id':'Int64', 'email':'object'})\n"
   ]
  },
  {
   "cell_type": "code",
   "execution_count": 32,
   "id": "cb3ac971",
   "metadata": {},
   "outputs": [],
   "source": [
    "email_person = person[['email']]"
   ]
  },
  {
   "cell_type": "code",
   "execution_count": 36,
   "id": "2b5248fc",
   "metadata": {},
   "outputs": [
    {
     "data": {
      "text/html": [
       "<div>\n",
       "<style scoped>\n",
       "    .dataframe tbody tr th:only-of-type {\n",
       "        vertical-align: middle;\n",
       "    }\n",
       "\n",
       "    .dataframe tbody tr th {\n",
       "        vertical-align: top;\n",
       "    }\n",
       "\n",
       "    .dataframe thead th {\n",
       "        text-align: right;\n",
       "    }\n",
       "</style>\n",
       "<table border=\"1\" class=\"dataframe\">\n",
       "  <thead>\n",
       "    <tr style=\"text-align: right;\">\n",
       "      <th></th>\n",
       "      <th>email</th>\n",
       "    </tr>\n",
       "  </thead>\n",
       "  <tbody>\n",
       "    <tr>\n",
       "      <th>2</th>\n",
       "      <td>a@b.com</td>\n",
       "    </tr>\n",
       "  </tbody>\n",
       "</table>\n",
       "</div>"
      ],
      "text/plain": [
       "     email\n",
       "2  a@b.com"
      ]
     },
     "execution_count": 36,
     "metadata": {},
     "output_type": "execute_result"
    }
   ],
   "source": [
    "duplicate_email = email_person[email_person.duplicated('email')]\n",
    "duplicate_email"
   ]
  },
  {
   "cell_type": "markdown",
   "id": "0e9ee96a",
   "metadata": {},
   "source": [
    "## Valid Parentheses\n",
    "1. if it is valid return true\n",
    "2. Otherwise return false"
   ]
  },
  {
   "cell_type": "code",
   "execution_count": 25,
   "id": "a48f1917",
   "metadata": {},
   "outputs": [
    {
     "data": {
      "text/plain": [
       "0    False\n",
       "1    False\n",
       "2     True\n",
       "dtype: bool"
      ]
     },
     "execution_count": 25,
     "metadata": {},
     "output_type": "execute_result"
    }
   ],
   "source": [
    "email_duplicate"
   ]
  },
  {
   "cell_type": "code",
   "execution_count": null,
   "id": "bed60024",
   "metadata": {},
   "outputs": [],
   "source": []
  },
  {
   "cell_type": "code",
   "execution_count": 9,
   "id": "45f773a6",
   "metadata": {},
   "outputs": [
    {
     "data": {
      "text/plain": [
       "True"
      ]
     },
     "execution_count": 9,
     "metadata": {},
     "output_type": "execute_result"
    }
   ],
   "source": [
    "def isvalid(s):\n",
    "    stack = []# initializing an empty stack\n",
    "    for c in s:#traversing\n",
    "        if c in '([{':\n",
    "            stack.append(c)#pushing the element into stack\n",
    "        else:\n",
    "            if not stack or \\\n",
    "            (c==')' and stack[-1]!='(')or \\\n",
    "            (c=='}' and stack[-1]!='{')or \\\n",
    "            (c==']' and stack[-1]!='['):\n",
    "                return false # string is not valid\n",
    "            stack.pop()\n",
    "    return not stack\n",
    "s = '(){}'\n",
    "isvalid(s)\n",
    "            \n",
    "            \n",
    "            \n",
    "        \n",
    "    \n",
    "    \n",
    "    "
   ]
  },
  {
   "cell_type": "code",
   "execution_count": null,
   "id": "0bc3894e",
   "metadata": {},
   "outputs": [],
   "source": []
  },
  {
   "cell_type": "code",
   "execution_count": null,
   "id": "c77ebbce",
   "metadata": {},
   "outputs": [],
   "source": []
  }
 ],
 "metadata": {
  "kernelspec": {
   "display_name": "Python 3 (ipykernel)",
   "language": "python",
   "name": "python3"
  },
  "language_info": {
   "codemirror_mode": {
    "name": "ipython",
    "version": 3
   },
   "file_extension": ".py",
   "mimetype": "text/x-python",
   "name": "python",
   "nbconvert_exporter": "python",
   "pygments_lexer": "ipython3",
   "version": "3.9.13"
  }
 },
 "nbformat": 4,
 "nbformat_minor": 5
}
